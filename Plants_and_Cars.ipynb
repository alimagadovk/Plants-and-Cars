{
  "nbformat": 4,
  "nbformat_minor": 0,
  "metadata": {
    "colab": {
      "name": "Plants and Cars.ipynb",
      "provenance": [],
      "collapsed_sections": []
    },
    "kernelspec": {
      "name": "python3",
      "display_name": "Python 3"
    },
    "language_info": {
      "name": "python"
    }
  },
  "cells": [
    {
      "cell_type": "markdown",
      "source": [
        "# Plants and Cars"
      ],
      "metadata": {
        "id": "f28y2DnPRte0"
      }
    },
    {
      "cell_type": "markdown",
      "source": [
        "Загрузка датасета с помощью Google Drive:"
      ],
      "metadata": {
        "id": "F8eYYX8iR6z8"
      }
    },
    {
      "cell_type": "code",
      "execution_count": 1,
      "metadata": {
        "id": "IypZPBFARb9H"
      },
      "outputs": [],
      "source": [
        "from pydrive.auth import GoogleAuth\n",
        "from pydrive.drive import GoogleDrive\n",
        "from google.colab import auth\n",
        "from oauth2client.client import GoogleCredentials\n",
        "\n",
        "auth.authenticate_user()\n",
        "gauth = GoogleAuth()\n",
        "gauth.credentials = GoogleCredentials.get_application_default()\n",
        "drive = GoogleDrive(gauth)"
      ]
    },
    {
      "cell_type": "code",
      "source": [
        "file_id = '1zBtt7-z1SWpX8vy1leHHSnuiEUtkGOGU'\n",
        "downloaded = drive.CreateFile({'id': file_id})\n",
        "downloaded.GetContentFile('/content/Dataset.zip')"
      ],
      "metadata": {
        "id": "K7pQUUlWSEBf"
      },
      "execution_count": 9,
      "outputs": []
    },
    {
      "cell_type": "code",
      "source": [
        "!unzip -q /content/Dataset.zip -d /content/\n",
        "!rm /content/Dataset.zip\n",
        "!unzip -q /content/Dataset/data.zip -d /content/Dataset\n",
        "!rm /content/Dataset/data.zip\n",
        "!ls /content/Dataset"
      ],
      "metadata": {
        "colab": {
          "base_uri": "https://localhost:8080/"
        },
        "id": "WsH54oR4TnQJ",
        "outputId": "16c278fb-b398-4778-acb3-f3ada96f285d"
      },
      "execution_count": 10,
      "outputs": [
        {
          "output_type": "stream",
          "name": "stdout",
          "text": [
            "data  data.json\n"
          ]
        }
      ]
    },
    {
      "cell_type": "code",
      "source": [
        "import os\n",
        "import json\n",
        "import cv2\n",
        "import matplotlib.pyplot as plt\n",
        "import numpy as np\n",
        "#from PIL import Image, ImageSequence\n",
        "from tqdm import tqdm"
      ],
      "metadata": {
        "id": "pUXCcvbsWbdt"
      },
      "execution_count": 12,
      "outputs": []
    },
    {
      "cell_type": "code",
      "source": [
        "path = \"/content/Dataset/\"\n",
        "json_path = path +\"data.json\"\n",
        "with open(json_path,\"r\") as read_file:\n",
        "  json_data = json.load(read_file)"
      ],
      "metadata": {
        "id": "Y2Ga9gcDWcv7"
      },
      "execution_count": 62,
      "outputs": []
    },
    {
      "cell_type": "code",
      "source": [
        "def load_data(path, dataset, json_data):\n",
        "  classes = ['class0/', 'class1/']\n",
        "  for item in classes:\n",
        "    os.mkdir(path + dataset + item)\n",
        "  bundle = 'initial_bundle' if dataset == 'Train/' else 'test_bundle'\n",
        "  for record in tqdm(json_data[bundle]):\n",
        "    if ((record['category'] != None) and (record['category']['id'] == 11)) or \\\n",
        "    ((record['subcategory'] != None) and (record['subcategory']['id'] == 1)): # Plants category id = 11; Cars subcategory id = 1\n",
        "      filename = record['file']\n",
        "      folder_name = classes[0] if record['subcategory']['name'] == 'Cars' else classes[1]\n",
        "      cmd = 'cp ' + os.path.join(path, filename) + ' ' + os.path.join(path + dataset, folder_name)\n",
        "      os.system(cmd)"
      ],
      "metadata": {
        "id": "0EDaBVjvlqS9"
      },
      "execution_count": 106,
      "outputs": []
    },
    {
      "cell_type": "code",
      "source": [
        "!rm -R /content/Dataset/Test\n",
        "!rm -R /content/Dataset/Train\n",
        "\n",
        "train_path = 'Train/'\n",
        "test_path = 'Test/'\n",
        "os.mkdir(path + train_path)\n",
        "os.mkdir(path + test_path)\n",
        "\n",
        "load_data(path, train_path, json_data)\n",
        "load_data(path, test_path, json_data)"
      ],
      "metadata": {
        "colab": {
          "base_uri": "https://localhost:8080/"
        },
        "id": "2PJEttz9bAks",
        "outputId": "44813052-b539-4351-a7a1-73339d607508"
      },
      "execution_count": 107,
      "outputs": [
        {
          "output_type": "stream",
          "name": "stderr",
          "text": [
            "100%|██████████| 1558/1558 [00:07<00:00, 198.11it/s]\n",
            "100%|██████████| 1545/1545 [00:07<00:00, 215.22it/s]\n"
          ]
        }
      ]
    },
    {
      "cell_type": "code",
      "source": [
        "!find /content/Dataset/Train/class0 -type f | wc -l\n",
        "!find /content/Dataset/Train/class1 -type f | wc -l\n",
        "\n",
        "!find /content/Dataset/Test/class0 -type f | wc -l\n",
        "!find /content/Dataset/Test/class1 -type f | wc -l"
      ],
      "metadata": {
        "colab": {
          "base_uri": "https://localhost:8080/"
        },
        "id": "NkG9dXwEiWI9",
        "outputId": "f1c4eaa7-95ce-4292-b7ed-c47aafa41d28"
      },
      "execution_count": 108,
      "outputs": [
        {
          "output_type": "stream",
          "name": "stdout",
          "text": [
            "145\n",
            "150\n",
            "160\n",
            "115\n"
          ]
        }
      ]
    }
  ]
}